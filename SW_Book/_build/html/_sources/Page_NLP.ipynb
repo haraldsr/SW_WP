{
 "cells": [
  {
   "cell_type": "code",
   "execution_count": 1,
   "metadata": {
    "tags": [
     "remove-input"
    ]
   },
   "outputs": [],
   "source": [
    "import pandas as pd\n",
    "import numpy as np\n",
    "import matplotlib.pyplot as plt\n",
    "from matplotlib.pyplot import figure\n",
    "import pickle\n",
    "import os\n",
    "from nltk import FreqDist\n",
    "from PIL import Image\n",
    "from nltk.corpus import PlaintextCorpusReader as pcr\n",
    "\n",
    "from wordcloud import WordCloud\n",
    "import community\n",
    "from importlib import reload \n",
    "reload(community)\n",
    "\n",
    "\n",
    "import gensim\n",
    "import gensim.corpora as corpora\n",
    "from gensim.models import CoherenceModel\n",
    "from gensim.test.utils import common_corpus\n",
    "\n",
    "import re\n",
    "from vaderSentiment.vaderSentiment import SentimentIntensityAnalyzer\n",
    "from IPython.display import Markdown as md\n",
    "\n",
    "import warnings\n",
    "warnings.filterwarnings(\"ignore\")\n",
    "\n",
    "%matplotlib inline "
   ]
  },
  {
   "cell_type": "code",
   "execution_count": 2,
   "metadata": {
    "tags": [
     "remove-input"
    ]
   },
   "outputs": [],
   "source": [
    "# Load the character dataframe \n",
    "characters_df = pd.read_csv('data/characters.csv')\n",
    "\n",
    "# Load the network \n",
    "with open('data/SW_DG_GCC.gpickle', 'rb') as handle:\n",
    "    SW_DG_GCC = pickle.load(handle)\n",
    "with open('data/SW_DG_GCC.gpickle', 'rb') as handle:\n",
    "    SW_DG_GCC = pickle.load(handle)\n",
    "\n",
    "# Create to undirected graph for plot\n",
    "G_SW_GCC = SW_DG_GCC.to_undirected()\n",
    "\n",
    "# Load the partition \n",
    "with open('data/partition.pickle', 'rb') as handle:\n",
    "    partition = pickle.load(handle)\n",
    "\n",
    "with open('data/wiki.pickle', 'rb') as handle:\n",
    "    wiki = pickle.load(handle)\n",
    "\n",
    "with open('data/dict_LabMT.pickle', 'rb') as handle:\n",
    "    dict_LabMT = pickle.load(handle)\n",
    "\n",
    "with open('data/dict_VADER.pickle', 'rb') as handle:\n",
    "    dict_VADER = pickle.load(handle)\n"
   ]
  },
  {
   "cell_type": "markdown",
   "metadata": {},
   "source": [
    "# Word clouds"
   ]
  },
  {
   "cell_type": "markdown",
   "metadata": {
    "id": "yyaX3XblAxIr"
   },
   "source": [
    "The word clouds help us extract meaning from large amounts of text by providing the most descriptive words in a document or corpus. We are extracting the most descriptive words based on two functions the Term Count (TC) and Inverse Document Frequency (IDF). TC function returns how many times a specific term (word) appears in a given document. IDF function returns a value related to how many documents in a corpus a specific term (word) appears. The output of the TC function can be described as how important a term is in a document. The output of the IDF function can be described as how unique the term in the corpus is. By multiplying both outputs we acquire the most descriptive words for a document."
   ]
  },
  {
   "cell_type": "markdown",
   "metadata": {
    "id": "g-fOn2uRkMSX"
   },
   "source": [
    "## Word clouds for alliance based on the wiki"
   ]
  },
  {
   "cell_type": "code",
   "execution_count": 3,
   "metadata": {
    "tags": [
     "remove-input"
    ]
   },
   "outputs": [],
   "source": [
    "#Remove the characters with no alliance\n",
    "characters_dropna = characters_df.dropna()"
   ]
  },
  {
   "cell_type": "code",
   "execution_count": 4,
   "metadata": {
    "tags": [
     "remove-input"
    ]
   },
   "outputs": [],
   "source": [
    "corpus_root = os.getcwd() + '/data/characters/'\n",
    "file_list = characters_dropna['File_Name'] + '.txt'\n",
    "corpus = pcr(corpus_root, file_list)"
   ]
  },
  {
   "cell_type": "code",
   "execution_count": 5,
   "metadata": {
    "scrolled": true,
    "tags": [
     "remove-input"
    ]
   },
   "outputs": [],
   "source": [
    "list_alliance = list(set(characters_dropna['Alliance']))"
   ]
  },
  {
   "cell_type": "code",
   "execution_count": 6,
   "metadata": {
    "tags": [
     "remove-input"
    ]
   },
   "outputs": [],
   "source": [
    "#Create Corpus for alliance\n",
    "corpus_root_alliance = os.getcwd() + '/data/Alliance/'\n",
    "file_list_alliance = pd.Series(list_alliance) + '.txt'\n",
    "corpus_alliance = pcr(corpus_root_alliance, file_list_alliance)"
   ]
  },
  {
   "cell_type": "code",
   "execution_count": 7,
   "metadata": {
    "tags": [
     "remove-input"
    ]
   },
   "outputs": [],
   "source": [
    "def create_wordclouds(data):\n",
    "    #The if statement filter the object between a corpus and a dictionary\n",
    "    if type(data) == dict:\n",
    "        tc_dict = {document:{term:term_count for term,term_count in FreqDist(data[document]).most_common()} for document in data.keys()}\n",
    "    else:\n",
    "        tc_dict = {document:{term:term_count for term,term_count in FreqDist(data.words(document)).most_common()} for document in data.fileids()}\n",
    "    \n",
    "    #Dictionary with IDF values for each unique word\n",
    "    idf_dict = {}\n",
    "    for term in set([term for i in tc_dict.keys() for term in tc_dict[i].keys()]):\n",
    "        N = len(tc_dict.keys()) #Total number of words inside document\n",
    "        nt = 0 \n",
    "        for d in tc_dict.keys():\n",
    "            if term in tc_dict[d].keys():\n",
    "                nt += 1 # nt describes in how many documents the term appears\n",
    "        idf_dict[term] = round(np.log(N/nt),4) #Calculate Inverse Term Frequency\n",
    "    \n",
    "    #Dictionary with TC-IDF values for each word for each document\n",
    "    tc_idf_dict = {document:{term:tc_dict[document].get(term)*idf_dict.get(term) for term in tc_dict[document].keys()}\\\n",
    "         for document in tc_dict.keys()}\n",
    "    \n",
    "    #Dictionary with TC-IDF values of the top 200 words for each docoment\n",
    "    most_common_dict = {document:{word:value for word,value in sorted(tc_idf_dict[document].items(),\\\n",
    "         key=lambda item: item[1],reverse=True)[:200]} for document in tc_dict.keys()}\n",
    "    \n",
    "\n",
    "    #Create wordclouds\n",
    "    col_word = ['Reds', 'Purples', 'BuGn', 'Blues', 'Greens'] #Colormap\n",
    "    mask = np.array(Image.open(os.getcwd() + '/data/Stormtrooper.jpg')) #Create shape image for wordclouds\n",
    "    a = 0\n",
    "\n",
    "    #Plotting the word cloud\n",
    "    plt.figure(figsize=[16, 24])\n",
    "    for attribute in most_common_dict.keys():\n",
    "        plt.subplot(3, 2, a+1)\n",
    "        wordcloud = WordCloud(mask=mask, collocations = False, background_color=\"white\", colormap=col_word[a],\\\n",
    "             max_font_size=1024, relative_scaling = 0.6, max_words = 200, \n",
    "        width = 3000, height = 3000).generate_from_frequencies(most_common_dict[attribute])\n",
    "        \n",
    "        a+=1\n",
    "        plt.imshow(wordcloud,interpolation=\"bilinear\")\n",
    "        plt.axis(\"off\")\n",
    "        attribute_clean = str(attribute).replace('.txt','')\n",
    "        plt.title(f'{attribute_clean}', fontsize=30)\n",
    "\n",
    "    plt.imshow(wordcloud, interpolation=\"bilinear\")\n",
    "    plt.axis(\"off\")"
   ]
  },
  {
   "cell_type": "code",
   "execution_count": 2,
   "metadata": {
    "tags": [
     "remove-input"
    ]
   },
   "outputs": [],
   "source": [
    "# Have troble plotting the word cloud for the wepage, but it works locally, thus we upload an image of it \n",
    "#create_wordclouds(corpus_alliance)"
   ]
  },
  {
   "cell_type": "markdown",
   "metadata": {},
   "source": [
    "![alliance](data/alliance_wc.PNG)"
   ]
  },
  {
   "cell_type": "markdown",
   "metadata": {
    "id": "pSWLrtVrAxIu"
   },
   "source": [
    "As we observe from the evil alliance we can see names from evil characters such as General Hux which was the leader of the First Order. \n",
    "\n",
    "Surprisingly General Kenobi appears on the sith word cloud which is unusual because he is a Jedi, but he had a lot of interactions with Sith lords, thus his appearance on the wordcloud is justified. \n",
    "\n",
    "The word \"Squadron\" appearing in the \"Good\" word cloud, which is the fighting unit of TIE fighters. \n",
    "\n",
    "Finally, for the Jedi word cloud we can see the characters such as a known Jedi [Shaak Ti](https://starwars.fandom.com/wiki/Shaak_Ti) and General [Mace Windu](https://starwars.fandom.com/wiki/Mace_Windu), but surprisingly we can also see relatives of the Jedis such as [Morgan Elsbeth](https://starwars.fandom.com/wiki/Morgan_Elsbeth) which we found her appearance in the Jedi word cloud surprising after her duels with [Ashoka Tano](https://starwars.fandom.com/wiki/Ahsoka_Tano) and [Mandalorian](https://starwars.fandom.com/wiki/Din_Djarin) on the Star Wars Series \"The Mandalorian\"."
   ]
  },
  {
   "cell_type": "markdown",
   "metadata": {},
   "source": [
    "## Word clouds for 5 main characters based on wiki"
   ]
  },
  {
   "cell_type": "code",
   "execution_count": null,
   "metadata": {
    "scrolled": true,
    "tags": [
     "remove-input"
    ]
   },
   "outputs": [
    {
     "data": {
      "text/plain": [
       "['Leia Skywalker Organa Solo',\n",
       " 'Anakin Skywalker',\n",
       " 'Luke Skywalker',\n",
       " 'Darth Sidious',\n",
       " 'Obi-Wan Kenobi']"
      ]
     },
     "execution_count": 15,
     "metadata": {},
     "output_type": "execute_result"
    }
   ],
   "source": [
    "list_top_5 = [row['File_Name'] for i,row in characters_df.iterrows() if 'Human' in characters_df['Species'][i] if len(re.findall(r'\\d',characters_df['Appearance'][i])) >= 7]\n",
    "list_top_5"
   ]
  },
  {
   "cell_type": "markdown",
   "metadata": {
    "id": "qMsfUGmiAxIz"
   },
   "source": [
    "As we can observe above the most popular characters. From the light side Leia, Luke, and Obi-wan. From the dark side Darth Sidious, and Anakin Skywalker."
   ]
  },
  {
   "cell_type": "code",
   "execution_count": null,
   "metadata": {
    "tags": [
     "remove-input"
    ]
   },
   "outputs": [],
   "source": [
    "corpus_root_top_5 = os.getcwd() + '/data/top_5/'\n",
    "file_list_top_5 = pd.Series(list_top_5) + '.txt'\n",
    "corpus_top_5 = pcr(corpus_root_top_5, file_list_top_5)"
   ]
  },
  {
   "cell_type": "code",
   "execution_count": 1,
   "metadata": {
    "collapsed": true,
    "tags": [
     "remove-input"
    ]
   },
   "outputs": [],
   "source": [
    "# Have troble plotting the word cloud for the wepage, but it works locally, thus we upload an image of it \n",
    "#create_wordclouds(corpus_top_5)"
   ]
  },
  {
   "cell_type": "markdown",
   "metadata": {},
   "source": [
    "![5_main](data/5_main.PNG)"
   ]
  },
  {
   "cell_type": "markdown",
   "metadata": {
    "id": "HU0hARZ7AxI0"
   },
   "source": [
    "The appearance of [Poe dameron](https://starwars.fandom.com/wiki/Poe_Dameron) on Leia's word cloud indicates their friendship on the Sequel Trilogy. \n",
    "\n",
    "In Luke's word cloud we can understand the importance of the Jedi 'text' mentioned by Luke, and the word [Grogu (Baby Yoda)](https://starwars.fandom.com/wiki/Grogu), a character that 'Luke' rescues and proceeds to train in the Star Wars series \"The Mandalorian\". Also, the word 'nephew' refering to Kylo Ren (his nephew) one of the main characters of the Sequel Trilogy.\n",
    "\n",
    "For Kenobi's word cloud we can see he has a high connection with 'Ashoka Tano'. That relationship is being explored in the Star Wars series 'The Clone Wars.\n",
    "\n",
    "And for Darth Sidious' word cloud we can see a highly descriptive world of 'Admiral Thrawn' which is a really important character in the Star Wars universe. \n",
    "\n",
    "Lastly, for Anakin we see 'Commander Rex' which was a clone and his colleague for a long time many wars also we can see again 'Ashoka Tano', Anakin's Padawan learner."
   ]
  },
  {
   "cell_type": "markdown",
   "metadata": {
    "id": "jYx2WuFwCz0A"
   },
   "source": [
    "## Part 3.6: Hidden topic modeling\n",
    "<a id='htm.'></a> "
   ]
  },
  {
   "cell_type": "markdown",
   "metadata": {
    "id": "UOA6aCiycsf0"
   },
   "source": [
    "Here we'll apply hidden topic modeling to two different corpuses and see how the topics are related to the documents.\n",
    "\n",
    "We'll use the Latent Dirichlet Allocation (LDA) model which is an unsuperviced machine learning model, thus no previous labelling has to be made, and we only have to provide our corpus."
   ]
  },
  {
   "cell_type": "code",
   "execution_count": null,
   "metadata": {
    "tags": [
     "remove-input"
    ]
   },
   "outputs": [
    {
     "data": {
      "image/png": "[encoded data removed]",
      "text/plain": [
       "<Figure size 432x288 with 1 Axes>"
      ]
     },
     "metadata": {
      "needs_background": "light"
     },
     "output_type": "display_data"
    }
   ],
   "source": [
    "freq = plt.hist(partition.values(), bins = len(set(partition.values())), rwidth = 0.5)\n",
    "\n",
    "community_size = pd.DataFrame(freq[0])\n",
    "community_size.rename(columns = {0:'Community Size'}, inplace = True) #renaming column\n",
    "com_trilogy = pd.DataFrame.from_dict({partition.get('Anakin_Skywalker'): [community_size.iloc[partition.get('Anakin_Skywalker'),0],'pre'], \\\n",
    "    partition.get('Luke_Skywalker'): [community_size.iloc[partition.get('Luke_Skywalker'),0],'or'],\\\n",
    "    partition.get('Rey_Skywalker'): [community_size.iloc[partition.get('Rey_Skywalker'),0],'seq']}, orient='index')\n",
    "com_trilogy.rename(columns = {0:'Community Size', 1:'Trilogy'}, inplace = True)\n",
    "com_trilogy\n",
    "\n",
    "com_dict = dict(zip(list(com_trilogy['Community Size'].keys()), [[key for key, val in partition.items() if val == com] for com in com_trilogy['Community Size'].keys()]))"
   ]
  },
  {
   "cell_type": "code",
   "execution_count": null,
   "metadata": {
    "tags": [
     "remove-input"
    ]
   },
   "outputs": [],
   "source": [
    "corpus_root_com = os.getcwd() + '/data/Communities/'\n",
    "file_list_com = pd.Series([str(key) + '.txt' for key in com_dict.keys()])\n",
    "corpus_com = pcr(corpus_root_com, file_list_com)\n",
    "com_top = [corpus_com.words(c) for c in corpus_com.fileids()]"
   ]
  },
  {
   "cell_type": "code",
   "execution_count": null,
   "metadata": {
    "tags": [
     "remove-input"
    ]
   },
   "outputs": [
    {
     "data": {
      "text/plain": [
       "[(0,\n",
       "  '0.013*\"jedi\" + 0.007*\"first\" + 0.007*\"force\" + 0.007*\"order\" + 0.007*\"skywalker\" + 0.006*\"would\"'),\n",
       " (1,\n",
       "  '0.009*\"jedi\" + 0.008*\"first\" + 0.007*\"skywalker\" + 0.006*\"force\" + 0.006*\"order\" + 0.005*\"would\"'),\n",
       " (2,\n",
       "  '0.010*\"jedi\" + 0.007*\"force\" + 0.007*\"first\" + 0.007*\"skywalker\" + 0.005*\"order\" + 0.005*\"vader\"')]"
      ]
     },
     "execution_count": 22,
     "metadata": {},
     "output_type": "execute_result"
    }
   ],
   "source": [
    "id2word = corpora.Dictionary(com_top)\n",
    "\n",
    "common_corpus = [id2word.doc2bow(index) for index in com_top]\n",
    "\n",
    "model = gensim.models.LdaMulticore(corpus = common_corpus, id2word = id2word, num_topics = 3)\n",
    "cm = CoherenceModel(model=model, corpus=common_corpus, coherence='u_mass')\n",
    "coherence = cm.get_coherence()\n",
    "\n",
    "model.show_topics(num_topics=3, num_words = 6)"
   ]
  },
  {
   "cell_type": "markdown",
   "metadata": {
    "id": "GYg7ZE6pkMSi"
   },
   "source": [
    "# Sentiment analysis"
   ]
  },
  {
   "cell_type": "markdown",
   "metadata": {},
   "source": [
    "We wish to look at sentiment for each of the characters both based on the wikipages and the scripts. The two methods we will use for sentiment analysis are LabMT and VADER. The LabMT is a dictionary-based approach, which means we will only be able to compute the sentiment for words in the LabMT dataset. This limits the LabMT's ability to deal with connection words such as negation. The VADER method is a combination of a rule-based approach and a dictionary-based approach. The combination means VADER will modify the polarity of a word based on the surrounding words. Due to the rule-based approach the conjunction words, which were ignored in the LabMT method, will also be evaluated. \n",
    "\n",
    "VADER is created for social media features for punctuation, emojis and slang are added."
   ]
  },
  {
   "cell_type": "markdown",
   "metadata": {},
   "source": [
    "We will save the characters and their corresponding wikipage inside a dictionary. To do this we will loop over all characters and extract the text from [WOOKIEEPEDIA](https://starwars.fandom.com/wiki/Main_Page)."
   ]
  },
  {
   "cell_type": "code",
   "execution_count": 3,
   "metadata": {
    "tags": [
     "remove-input"
    ]
   },
   "outputs": [
    {
     "data": {
      "image/png": "[encoded data removed]",
      "text/plain": [
       "<Figure size 1296x432 with 2 Axes>"
      ]
     },
     "metadata": {
      "needs_background": "light"
     },
     "output_type": "display_data"
    }
   ],
   "source": [
    "figure(figsize = (18,6))\n",
    "plt.subplot(1,2,1)\n",
    "plt.hist(dict_LabMT.values(), bins=10, align='left', rwidth = 0.5)\n",
    "plt.title('Histogram for all associated sentiments using LabMT')\n",
    "plt.xlabel('Sentiment score')\n",
    "plt.ylabel('Frequency')\n",
    "plt.xlim([1,9])\n",
    "\n",
    "plt.subplot(1,2,2)\n",
    "plt.hist(dict_VADER.values(), bins=10, align='left', rwidth = 0.5, color='darkred')\n",
    "plt.title('Histogram for all associated sentiments using VADER')\n",
    "plt.xlabel('Sentiment score')\n",
    "plt.ylabel('Frequency')\n",
    "plt.xlim([-1,1])\n",
    "\n",
    "plt.show()"
   ]
  },
  {
   "cell_type": "markdown",
   "metadata": {},
   "source": [
    "The plot above shows the distribution of sentiment for all characters using two different methods. It is important to note, that the scale and mean are defined differently for the two methods. \n",
    "\n",
    "On the left-hand side, we see the results from LabMT. The average for this method is 5 and we can see that the majority of the characters are slightly above average. But the values are close to 5 which means they will still be categorized as neutral. On the right-hand side, we have the distribution created by the VADER method. Here we see that the mean is zero and the vast majority are below 0. Furthermore, we see that some will be classified as negative since they have a score lower than -0.5. \n",
    "\n",
    "As we can see the two methods results in very different results. This is due to the different approaches these two methods use. The VADER uses a combination of the rule-based and dictionary-based approach which means more aspects are picked up from text files, such as negation and conjunctions. Furthermore, we see that the VADER shows, that there are characters who will be categorized as negative. A reason for the sentiment analysis score being low could be because the Star Wars movies are talking about war with a lot of weapons and describing evil and good. Since most of the words related to war are categorized as negative this explains why the sentiment is tilted towards negative.\n",
    "\n",
    "The VADER method categorized some characters not as neutral, we will take a closer look at these characters. "
   ]
  },
  {
   "cell_type": "code",
   "execution_count": null,
   "metadata": {
    "tags": [
     "remove-input"
    ]
   },
   "outputs": [
    {
     "name": "stdout",
     "output_type": "stream",
     "text": [
      "Grievous has VADER sentiment vlues of -0.6\n",
      "Mot-Not_Rab has VADER sentiment vlues of -0.56\n",
      "Edcel_Bar_Gane has VADER sentiment vlues of -0.55\n",
      "Po_Nudo has VADER sentiment vlues of -0.53\n",
      "IG-101 has VADER sentiment vlues of -0.53\n"
     ]
    }
   ],
   "source": [
    "# Sort the dictionary based on VADER score \n",
    "sorted_VADER = dict(sorted(dict_VADER.items(), key=lambda item: item[1]))\n",
    "\n",
    "# Print the top 5 most negative characters \n",
    "for i in range(5):\n",
    "    print(f\"{list(sorted_VADER.keys())[i]} has VADER sentiment vlues of {np.round(list(sorted_VADER.values())[i],2)}\")"
   ]
  },
  {
   "cell_type": "markdown",
   "metadata": {
    "id": "XXCwD-eqkMSk"
   },
   "source": [
    "The top 5 most negative characters from the VADER methods are all categorized as having a negative sentiment. The most negative character is Grievous who was a warlord. He has a detailed wikipage describing through all the things he has done, which are all war related. For the rest of the top 5 most negative characters, by inspecting their corresponding wikipage we see that the wikipages are short. This could result in the sentiment being lower, since all Star Wars character most likely have war related words, thus when the wiki page is short these will weigh more."
   ]
  }
 ],
 "metadata": {
  "celltoolbar": "Edit Metadata",
  "colab": {
   "collapsed_sections": [],
   "name": "project_v11.ipynb",
   "provenance": []
  },
  "interpreter": {
   "hash": "0600588c3b5f4418cbe7b5ebc6825b479f3bc010269d8b60d75058cdd010adfe"
  },
  "kernelspec": {
   "display_name": "Python 3 (ipykernel)",
   "language": "python",
   "name": "python3"
  },
  "language_info": {
   "codemirror_mode": {
    "name": "ipython",
    "version": 3
   },
   "file_extension": ".py",
   "mimetype": "text/x-python",
   "name": "python",
   "nbconvert_exporter": "python",
   "pygments_lexer": "ipython3",
   "version": "3.7.9"
  }
 },
 "nbformat": 4,
 "nbformat_minor": 1
}
