{
 "cells": [
  {
   "cell_type": "markdown",
   "metadata": {},
   "source": [
    "# The Star Wars data "
   ]
  },
  {
   "cell_type": "code",
   "execution_count": 2,
   "metadata": {
    "tags": [
     "remove-input"
    ]
   },
   "outputs": [],
   "source": [
    "import pandas as pd\n",
    "import warnings\n",
    "warnings.filterwarnings(\"ignore\")"
   ]
  },
  {
   "cell_type": "markdown",
   "metadata": {},
   "source": [
    "The data used for the analysis is a data frame containing all the characters in the chosen Star Wars movies, meaning all movies in the Skywalker saga (Star Wars 1-9). The data frame is created such that we will get an easy overview of all characters and their associated attributes. The information of characters will come from the [Star Wars fandom wiki](https://starwars.fandom.com/wiki/Main_Page). There exists a unique wiki page for each movie, where all the characters appearing in the movie will be listed. An example is:  \n",
    "![wiki_appearances](data/wiki_appearances.PNG)\n",
    "\n",
    "The characters in our data frame will be from _Characters_ and _Creatures_ in the web pages. Furthermore, we will only extract the characters categorized as cannon, which means we will ignore legend characters.\n",
    "We have chosen to add _homeworld, species, gender, affiliation_ and _alliance_. \n",
    "We have in total 1397 unique characters. \n",
    "Here we an example of the data frame. "
   ]
  },
  {
   "cell_type": "code",
   "execution_count": 4,
   "metadata": {
    "tags": [
     "remove-input"
    ]
   },
   "outputs": [
    {
     "data": {
      "text/html": [
       "<div>\n",
       "<style scoped>\n",
       "    .dataframe tbody tr th:only-of-type {\n",
       "        vertical-align: middle;\n",
       "    }\n",
       "\n",
       "    .dataframe tbody tr th {\n",
       "        vertical-align: top;\n",
       "    }\n",
       "\n",
       "    .dataframe thead th {\n",
       "        text-align: right;\n",
       "    }\n",
       "</style>\n",
       "<table border=\"1\" class=\"dataframe\">\n",
       "  <thead>\n",
       "    <tr style=\"text-align: right;\">\n",
       "      <th></th>\n",
       "      <th>Name</th>\n",
       "      <th>Appearance</th>\n",
       "      <th>Homeworld</th>\n",
       "      <th>Species</th>\n",
       "      <th>Gender</th>\n",
       "      <th>Affiliation</th>\n",
       "      <th>Alliance</th>\n",
       "      <th>File_Name</th>\n",
       "    </tr>\n",
       "  </thead>\n",
       "  <tbody>\n",
       "    <tr>\n",
       "      <th>7</th>\n",
       "      <td>Yané</td>\n",
       "      <td>[1]</td>\n",
       "      <td>['Naboo']</td>\n",
       "      <td>['Human (Naboo)']</td>\n",
       "      <td>['Female']</td>\n",
       "      <td>['Royal House of Naboo', 'Naboo Royal Handmaid...</td>\n",
       "      <td>Good</td>\n",
       "      <td>Yané</td>\n",
       "    </tr>\n",
       "    <tr>\n",
       "      <th>195</th>\n",
       "      <td>Anakin Skywalker</td>\n",
       "      <td>[1, 2, 3, 4, 5, 6, 7, 8, 9]</td>\n",
       "      <td>['Tatooine']</td>\n",
       "      <td>['Human']</td>\n",
       "      <td>['Male']</td>\n",
       "      <td>['Skywalker family', 'Jedi Order', 'Jedi High ...</td>\n",
       "      <td>Mix</td>\n",
       "      <td>Anakin Skywalker</td>\n",
       "    </tr>\n",
       "    <tr>\n",
       "      <th>648</th>\n",
       "      <td>Unidentified female First Order officer</td>\n",
       "      <td>[7]</td>\n",
       "      <td>[]</td>\n",
       "      <td>['Human']</td>\n",
       "      <td>['Female']</td>\n",
       "      <td>['First Order', 'First Order military']</td>\n",
       "      <td>Evil</td>\n",
       "      <td>Unidentified female First Order officer</td>\n",
       "    </tr>\n",
       "    <tr>\n",
       "      <th>948</th>\n",
       "      <td>R2-D2</td>\n",
       "      <td>[1, 2, 3, 4, 5, 6, 7, 8, 9]</td>\n",
       "      <td>['Naboo']</td>\n",
       "      <td>['Droid']</td>\n",
       "      <td>['Masculine programming']</td>\n",
       "      <td>['Royal House of Naboo', 'Jedi Order', 'Galact...</td>\n",
       "      <td>Good</td>\n",
       "      <td>R2-D2</td>\n",
       "    </tr>\n",
       "    <tr>\n",
       "      <th>1285</th>\n",
       "      <td>Finn</td>\n",
       "      <td>[7, 8, 9]</td>\n",
       "      <td>[]</td>\n",
       "      <td>['Human']</td>\n",
       "      <td>['Male']</td>\n",
       "      <td>['First Order', 'Batch Eight', 'FN Corps', 'Re...</td>\n",
       "      <td>Mix</td>\n",
       "      <td>Finn</td>\n",
       "    </tr>\n",
       "  </tbody>\n",
       "</table>\n",
       "</div>"
      ],
      "text/plain": [
       "                                         Name                   Appearance  \\\n",
       "7                                        Yané                          [1]   \n",
       "195                          Anakin Skywalker  [1, 2, 3, 4, 5, 6, 7, 8, 9]   \n",
       "648   Unidentified female First Order officer                          [7]   \n",
       "948                                     R2-D2  [1, 2, 3, 4, 5, 6, 7, 8, 9]   \n",
       "1285                                     Finn                    [7, 8, 9]   \n",
       "\n",
       "         Homeworld            Species                     Gender  \\\n",
       "7        ['Naboo']  ['Human (Naboo)']                 ['Female']   \n",
       "195   ['Tatooine']          ['Human']                   ['Male']   \n",
       "648             []          ['Human']                 ['Female']   \n",
       "948      ['Naboo']          ['Droid']  ['Masculine programming']   \n",
       "1285            []          ['Human']                   ['Male']   \n",
       "\n",
       "                                            Affiliation Alliance  \\\n",
       "7     ['Royal House of Naboo', 'Naboo Royal Handmaid...     Good   \n",
       "195   ['Skywalker family', 'Jedi Order', 'Jedi High ...      Mix   \n",
       "648             ['First Order', 'First Order military']     Evil   \n",
       "948   ['Royal House of Naboo', 'Jedi Order', 'Galact...     Good   \n",
       "1285  ['First Order', 'Batch Eight', 'FN Corps', 'Re...      Mix   \n",
       "\n",
       "                                    File_Name  \n",
       "7                                        Yané  \n",
       "195                          Anakin Skywalker  \n",
       "648   Unidentified female First Order officer  \n",
       "948                                     R2-D2  \n",
       "1285                                     Finn  "
      ]
     },
     "execution_count": 4,
     "metadata": {},
     "output_type": "execute_result"
    }
   ],
   "source": [
    "characters_df = pd.read_csv('data/characters.csv')\n",
    "characters_df[characters_df['Name'].isin(['Anakin Skywalker','R2-D2', 'Yané','Finn', 'Unidentified female First Order officer'])]"
   ]
  }
 ],
 "metadata": {
  "celltoolbar": "Edit Metadata",
  "interpreter": {
   "hash": "9761167bcfbb2ab7bab2f386e7398bd12a25b693d227729ebe1d36d8f4b471a9"
  },
  "kernelspec": {
   "display_name": "Python 3 (ipykernel)",
   "language": "python",
   "name": "python3"
  },
  "language_info": {
   "codemirror_mode": {
    "name": "ipython",
    "version": 3
   },
   "file_extension": ".py",
   "mimetype": "text/x-python",
   "name": "python",
   "nbconvert_exporter": "python",
   "pygments_lexer": "ipython3",
   "version": "3.7.9"
  }
 },
 "nbformat": 4,
 "nbformat_minor": 4
}
